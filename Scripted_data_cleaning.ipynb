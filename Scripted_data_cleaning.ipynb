{
 "cells": [
  {
   "cell_type": "code",
   "execution_count": 6,
   "id": "6f1fb333-c52e-4d2c-b4ec-c8db58d8efec",
   "metadata": {},
   "outputs": [],
   "source": [
    "import os\n",
    "import pandas as pd"
   ]
  },
  {
   "cell_type": "code",
   "execution_count": 7,
   "id": "51502339-1ecc-47e1-945b-7c9646d97053",
   "metadata": {},
   "outputs": [],
   "source": [
    "input_folder = \"converted csv files\"\n",
    "output_folder = \"cleaned csv files\"\n",
    "\n",
    "for file in os.listdir(input_folder):\n",
    "    if file.endswith(\".csv\"):\n",
    "        year = file[-8:-4]\n",
    "        filepath = os.path.join(input_folder, file)\n",
    "\n",
    "        df = pd.read_csv(filepath, dtype={\"ZIP\": str}, parse_dates=[\"Date\"])\n",
    "        df = df[['ZIP', 'MSA', 'MSA.Title', 'TEMP.Mean', 'HeatIndex.Mean', 'Date']]\n",
    "\n",
    "        df_avg = (\n",
    "            df\n",
    "            .groupby([df['ZIP'], df['Date'].dt.month])\n",
    "            .agg({\n",
    "                'MSA': 'first',\n",
    "                'MSA.Title': 'first',\n",
    "                'TEMP.Mean': 'mean',\n",
    "                'HeatIndex.Mean': 'mean'\n",
    "            })\n",
    "            .reset_index()\n",
    "            .rename(columns={'Date': 'Month', 'TEMP.Mean': 'Avg.Temp.Mean', 'HeatIndex.Mean': 'Avg.HeatIndex.Mean'})\n",
    "        )\n",
    "        \n",
    "        df_avg['Avg.Temp.Mean'] = df_avg['Avg.Temp.Mean'] * 9/5 + 32\n",
    "        df_avg['Avg.HeatIndex.Mean'] = df_avg['Avg.HeatIndex.Mean'] * 9/5 + 32\n",
    "        \n",
    "        df.to_csv(os.path.join(output_folder, f\"cleaned_climate_{year}.csv\"), index=False)\n",
    "        df_avg.to_csv(os.path.join(output_folder, f\"monthly_avg_climate{year}.csv\"), index=False)"
   ]
  },
  {
   "cell_type": "code",
   "execution_count": 8,
   "id": "dc3ab7d9-495b-4cfb-9cc3-16ee87eebcc3",
   "metadata": {},
   "outputs": [],
   "source": [
    "folder_path = \"cleaned csv files\"\n",
    "all_years = []\n",
    "\n",
    "for file in os.listdir(folder_path):\n",
    "    if file.startswith(\"monthly_avg_climate\") and file.endswith(\".csv\"):\n",
    "        file_path = os.path.join(folder_path, file)\n",
    "        df = pd.read_csv(file_path, dtype={'ZIP': str})\n",
    "        all_years.append(df)"
   ]
  },
  {
   "cell_type": "code",
   "execution_count": 9,
   "id": "614b8fca-45df-4587-b87a-84257939bcc5",
   "metadata": {},
   "outputs": [],
   "source": [
    "combined_df = pd.concat(all_years, ignore_index=True)"
   ]
  },
  {
   "cell_type": "code",
   "execution_count": 11,
   "id": "4112f50d-8740-4d5f-9ac5-e4c39bcf47d4",
   "metadata": {},
   "outputs": [],
   "source": [
    "ten_year_avg_2008_2017 = (\n",
    "    combined_df\n",
    "    .groupby(['ZIP', 'Month'], as_index=False)\n",
    "    .agg({\n",
    "        'MSA': 'first',\n",
    "        'MSA.Title': 'first',\n",
    "        'Avg.Temp.Mean': 'mean',\n",
    "        'Avg.HeatIndex.Mean': 'mean'\n",
    "        })\n",
    ") \n",
    "state_extracted = ten_year_avg_2008_2017['MSA.Title'].str.rsplit(', ', n=1).str[-1]\n",
    "ten_year_avg_2008_2017['StateList'] = state_extracted.str.split('-')\n",
    "ten_year_avg_2008_2017 = ten_year_avg_2008_2017.explode('StateList').rename(columns={'StateList': 'State'})\n",
    "ten_year_avg_2008_2017['Metro'] = ten_year_avg_2008_2017['MSA.Title'].str.rsplit(', ', n=1).str[0]\n",
    "\n",
    "ten_year_avg_2008_2017.to_csv('ten_year_avg_2008_2017.csv', index=False)"
   ]
  },
  {
   "cell_type": "code",
   "execution_count": 4,
   "id": "7db3a326-6322-4923-94ce-b4652f401f49",
   "metadata": {},
   "outputs": [
    {
     "name": "stdout",
     "output_type": "stream",
     "text": [
      "Found 20 files to check\n",
      "All files read and checked\n"
     ]
    }
   ],
   "source": [
    "import glob\n",
    "import pandas as pd\n",
    "files = glob.glob(\"cleaned csv files/*.csv\")\n",
    "print(f\"Found {len(files)} files to check\")\n",
    "\n",
    "processed = 0\n",
    "for path in files:\n",
    "    df = pd.read_csv(path, dtype={'ZIP': str})\n",
    "    null_count = df.isnull().sum().sum()\n",
    "    assert null_count == 0, f\"Found {null_count} nulls in {path}\"\n",
    "    processed += 1\n",
    "\n",
    "assert processed == len(files),(\n",
    "    f\"Processed {processed} files but expected {len(files)}\"\n",
    ")\n",
    "print(\"All files read and checked\")"
   ]
  },
  {
   "cell_type": "code",
   "execution_count": null,
   "id": "2c7aea82-f66a-4202-bc93-87ebb7d997a2",
   "metadata": {},
   "outputs": [],
   "source": []
  }
 ],
 "metadata": {
  "kernelspec": {
   "display_name": "Python [conda env:base] *",
   "language": "python",
   "name": "conda-base-py"
  },
  "language_info": {
   "codemirror_mode": {
    "name": "ipython",
    "version": 3
   },
   "file_extension": ".py",
   "mimetype": "text/x-python",
   "name": "python",
   "nbconvert_exporter": "python",
   "pygments_lexer": "ipython3",
   "version": "3.13.5"
  }
 },
 "nbformat": 4,
 "nbformat_minor": 5
}
